{
 "cells": [
  {
   "cell_type": "markdown",
   "metadata": {
    "slideshow": {
     "slide_type": "slide"
    }
   },
   "source": [
    "# 通过微博内容进行用户性别画像\n",
    "\n",
    "## 题目背景\n",
    ">用户画像是在大数据背景下，互联网业内兴起的一种对用户进行精细化分析的系统工作，其目的是通过对用户的特征属性，行为模式等进行有效的数据挖掘和算法分析，从而得到用户的偏好，兴趣，爱好，观点等标签信息，进而实现互联网+时代内的个性化精准营销，服务与推荐等服务，对于新时代的互联网公司具有重大战略作用。 微博作为社交网络媒介，该有向图网络内包含大量的UGC内容，包括文本内容，用户行为，有向图结构等等，根据这些信息对用户进行画像对微博的运营与发展非常重要。\n",
    "\n",
    ">本题目的内容是给定一定量的微博数据，对用户进行性别画像，也就是通过用户的个人信息，微博内容情况等，挖掘用户的性别属性。"
   ]
  },
  {
   "cell_type": "markdown",
   "metadata": {},
   "source": [
    "## 文本挖掘常规流程\n",
    "\n",
    "\n",
    "\t1. 业务理解\n",
    "\t2. 数据预处理（数据清洗，合并）\n",
    "\t3. 特征提取（分词 ，停用词，高频词，词向量表示，增加数据权重）\n",
    "\t4. 数据降维\n",
    "\t5. 模型选择\n",
    "\t6. 结果验证与参数调优\n",
    "    \n",
    "## Python实现\n",
    "   1. pandas 数据处理包\n",
    "   2. sklearn 机器学习包\n",
    "   3. gensim 自然语言处理\n",
    "   "
   ]
  },
  {
   "cell_type": "markdown",
   "metadata": {},
   "source": [
    "## 1. 业务理解"
   ]
  },
  {
   "cell_type": "markdown",
   "metadata": {},
   "source": [
    "### 有什么数据？"
   ]
  },
  {
   "cell_type": "code",
   "execution_count": 178,
   "metadata": {
    "collapsed": false,
    "scrolled": false
   },
   "outputs": [
    {
     "name": "stdout",
     "output_type": "stream",
     "text": [
      "用户ID\t地区\t性别\t粉丝数\t关注数\t微博数\t生日\t签名\t\n",
      "\n",
      "eec8cdfdb1165b14f1fff87fc53360c3\t河南\t男\t19\t64\t101\t1998-02-21 16:00:00\t冷暖自知\n",
      "\n",
      "7a0a488f0aa6be5e0ecd5e406310e571\t福建\t女\t1059\t535\t722\t1996-03-03 16:00:00\t我是一个上进的玉米\n",
      "\n"
     ]
    }
   ],
   "source": [
    "#查看微博用户信息\n",
    "path_user_info = 'c:/train_data1/train_user_infos_1.txt'\n",
    "f_user_info = open(path_user_info, encoding='utf-8')\n",
    "for x in range(3):\n",
    "    print(f_user_info.readline()) \n",
    "f_user_info.close()"
   ]
  },
  {
   "cell_type": "code",
   "execution_count": 177,
   "metadata": {
    "collapsed": false,
    "scrolled": true
   },
   "outputs": [
    {
     "name": "stdout",
     "output_type": "stream",
     "text": [
      "用户ID\t评论数\t赞数\t转发数\t时间\t来源\t内容\t\n",
      "\n",
      "eec8cdfdb1165b14f1fff87fc53360c3\t0\t0\t0\t2016-08-13 20:39:00\tOPPO R3\t谁说运动就是拼步数，只要够努力日行1000步一样拿奖励！我已领取了蜗牛侠的限量勋章，你还不动起来吗？\n",
      "\n",
      "eec8cdfdb1165b14f1fff87fc53360c3\t0\t0\t0\t2016-07-28 08:54:00\tOPPO R3\t『推荐有奖』\n",
      "\n"
     ]
    }
   ],
   "source": [
    "#查看微博内容\n",
    "path_weibos = 'c:/train_data1/train_user_weibos_1.txt'\n",
    "f_weibos = open(path_weibos, encoding='utf-8')\n",
    "for x in range(3):\n",
    "    print(f_weibos.readline()) \n",
    "f_weibos.close()"
   ]
  },
  {
   "cell_type": "markdown",
   "metadata": {},
   "source": [
    "### 怎么用？\n",
    "\n",
    "通过微博内容中的关键词\n",
    "\n",
    "\n",
    "### 其他可用的信息？"
   ]
  },
  {
   "cell_type": "markdown",
   "metadata": {},
   "source": [
    "## 2. 数据预处理\n",
    "\n",
    "* 数据加载\n",
    "* 异常数据清洗\n",
    "* 数据合并、关联"
   ]
  },
  {
   "cell_type": "code",
   "execution_count": 8,
   "metadata": {
    "collapsed": true
   },
   "outputs": [],
   "source": [
    "#数据加载\n",
    "import pandas as pd\n",
    "\n",
    "df_user_info = pd.read_csv('c:/train_data1/small/train_user_info_small.csv',encoding='utf-8')\n",
    "df_weibos = pd.read_csv('c:/train_data1/small/train_weibos_small.csv',encoding='utf-8')"
   ]
  },
  {
   "cell_type": "code",
   "execution_count": 11,
   "metadata": {
    "collapsed": false
   },
   "outputs": [
    {
     "data": {
      "text/plain": [
       "user_id       10000\n",
       "city           9998\n",
       "sex            9998\n",
       "fans_num      10000\n",
       "follow_num    10000\n",
       "weibo_num     10000\n",
       "birth          5655\n",
       "sign           7194\n",
       "dtype: int64"
      ]
     },
     "execution_count": 11,
     "metadata": {},
     "output_type": "execute_result"
    }
   ],
   "source": [
    "df_user_info.head(2)"
   ]
  },
  {
   "cell_type": "code",
   "execution_count": 10,
   "metadata": {
    "collapsed": false
   },
   "outputs": [
    {
     "data": {
      "text/html": [
       "<div>\n",
       "<table border=\"1\" class=\"dataframe\">\n",
       "  <thead>\n",
       "    <tr style=\"text-align: right;\">\n",
       "      <th></th>\n",
       "      <th>user_id</th>\n",
       "      <th>commen_num</th>\n",
       "      <th>like_num</th>\n",
       "      <th>repost_num</th>\n",
       "      <th>time</th>\n",
       "      <th>device</th>\n",
       "      <th>content</th>\n",
       "    </tr>\n",
       "  </thead>\n",
       "  <tbody>\n",
       "    <tr>\n",
       "      <th>0</th>\n",
       "      <td>eec8cdfdb1165b14f1fff87fc53360c3</td>\n",
       "      <td>0</td>\n",
       "      <td>0</td>\n",
       "      <td>0</td>\n",
       "      <td>2016-07-28 08:54:00</td>\n",
       "      <td>OPPO R3</td>\n",
       "      <td>『推荐有奖』</td>\n",
       "    </tr>\n",
       "    <tr>\n",
       "      <th>1</th>\n",
       "      <td>eec8cdfdb1165b14f1fff87fc53360c3</td>\n",
       "      <td>0</td>\n",
       "      <td>0</td>\n",
       "      <td>0</td>\n",
       "      <td>2016-07-28 07:15:00</td>\n",
       "      <td>微博等级</td>\n",
       "      <td>只要升等级就有福利享，变身土豪就靠它，想想就有点小激动呢[太开心]小伙伴儿们速来围观，领取你的</td>\n",
       "    </tr>\n",
       "  </tbody>\n",
       "</table>\n",
       "</div>"
      ],
      "text/plain": [
       "                            user_id  commen_num  like_num  repost_num  \\\n",
       "0  eec8cdfdb1165b14f1fff87fc53360c3           0         0           0   \n",
       "1  eec8cdfdb1165b14f1fff87fc53360c3           0         0           0   \n",
       "\n",
       "                  time   device  \\\n",
       "0  2016-07-28 08:54:00  OPPO R3   \n",
       "1  2016-07-28 07:15:00     微博等级   \n",
       "\n",
       "                                           content  \n",
       "0                                           『推荐有奖』  \n",
       "1  只要升等级就有福利享，变身土豪就靠它，想想就有点小激动呢[太开心]小伙伴儿们速来围观，领取你的  "
      ]
     },
     "execution_count": 10,
     "metadata": {},
     "output_type": "execute_result"
    }
   ],
   "source": [
    "df_weibos.head(2)"
   ]
  },
  {
   "cell_type": "code",
   "execution_count": 16,
   "metadata": {
    "collapsed": false
   },
   "outputs": [
    {
     "data": {
      "text/html": [
       "<div>\n",
       "<table border=\"1\" class=\"dataframe\">\n",
       "  <thead>\n",
       "    <tr style=\"text-align: right;\">\n",
       "      <th></th>\n",
       "      <th>commen_num</th>\n",
       "      <th>like_num</th>\n",
       "      <th>repost_num</th>\n",
       "    </tr>\n",
       "  </thead>\n",
       "  <tbody>\n",
       "    <tr>\n",
       "      <th>count</th>\n",
       "      <td>1.157303e+06</td>\n",
       "      <td>1.157303e+06</td>\n",
       "      <td>1.157303e+06</td>\n",
       "    </tr>\n",
       "    <tr>\n",
       "      <th>mean</th>\n",
       "      <td>6.128494e+00</td>\n",
       "      <td>8.542078e+01</td>\n",
       "      <td>6.313411e+00</td>\n",
       "    </tr>\n",
       "    <tr>\n",
       "      <th>std</th>\n",
       "      <td>3.938604e+02</td>\n",
       "      <td>4.859770e+03</td>\n",
       "      <td>3.291131e+02</td>\n",
       "    </tr>\n",
       "    <tr>\n",
       "      <th>min</th>\n",
       "      <td>0.000000e+00</td>\n",
       "      <td>0.000000e+00</td>\n",
       "      <td>0.000000e+00</td>\n",
       "    </tr>\n",
       "    <tr>\n",
       "      <th>25%</th>\n",
       "      <td>0.000000e+00</td>\n",
       "      <td>0.000000e+00</td>\n",
       "      <td>0.000000e+00</td>\n",
       "    </tr>\n",
       "    <tr>\n",
       "      <th>50%</th>\n",
       "      <td>0.000000e+00</td>\n",
       "      <td>0.000000e+00</td>\n",
       "      <td>0.000000e+00</td>\n",
       "    </tr>\n",
       "    <tr>\n",
       "      <th>75%</th>\n",
       "      <td>1.000000e+00</td>\n",
       "      <td>1.000000e+00</td>\n",
       "      <td>0.000000e+00</td>\n",
       "    </tr>\n",
       "    <tr>\n",
       "      <th>max</th>\n",
       "      <td>3.220540e+05</td>\n",
       "      <td>1.025145e+06</td>\n",
       "      <td>1.727890e+05</td>\n",
       "    </tr>\n",
       "  </tbody>\n",
       "</table>\n",
       "</div>"
      ],
      "text/plain": [
       "         commen_num      like_num    repost_num\n",
       "count  1.157303e+06  1.157303e+06  1.157303e+06\n",
       "mean   6.128494e+00  8.542078e+01  6.313411e+00\n",
       "std    3.938604e+02  4.859770e+03  3.291131e+02\n",
       "min    0.000000e+00  0.000000e+00  0.000000e+00\n",
       "25%    0.000000e+00  0.000000e+00  0.000000e+00\n",
       "50%    0.000000e+00  0.000000e+00  0.000000e+00\n",
       "75%    1.000000e+00  1.000000e+00  0.000000e+00\n",
       "max    3.220540e+05  1.025145e+06  1.727890e+05"
      ]
     },
     "execution_count": 16,
     "metadata": {},
     "output_type": "execute_result"
    }
   ],
   "source": [
    "#df_user_info.count()\n",
    "#df_user_info.describe()\n",
    "df_weibos.count()\n",
    "df_weibos.describe()"
   ]
  },
  {
   "cell_type": "code",
   "execution_count": 34,
   "metadata": {
    "collapsed": false
   },
   "outputs": [
    {
     "data": {
      "text/plain": [
       "10000"
      ]
     },
     "execution_count": 34,
     "metadata": {},
     "output_type": "execute_result"
    }
   ],
   "source": [
    "df_user_info.user_id.nunique()"
   ]
  },
  {
   "cell_type": "code",
   "execution_count": 22,
   "metadata": {
    "collapsed": false
   },
   "outputs": [
    {
     "data": {
      "text/plain": [
       "user_id       9998\n",
       "city          9998\n",
       "sex           9998\n",
       "fans_num      9998\n",
       "follow_num    9998\n",
       "weibo_num     9998\n",
       "birth         5655\n",
       "sign          7194\n",
       "dtype: int64"
      ]
     },
     "execution_count": 22,
     "metadata": {},
     "output_type": "execute_result"
    }
   ],
   "source": [
    "\n",
    "\n",
    "#总体统计  count 发现空值\n",
    "pd_user_info.count()\n",
    "#删除空值\n",
    "pd_user_info = pd_user_info[~pd_user_info.sex.isnull()]\n",
    "pd_user_info.count()"
   ]
  },
  {
   "cell_type": "code",
   "execution_count": null,
   "metadata": {
    "collapsed": true
   },
   "outputs": [],
   "source": [
    "\n",
    "#按性别分组，查看各指标差异\n",
    "pd_user_info.groupby('sex').mean()\n",
    "\n",
    "#数据分析，四分点\n",
    "#pd_user_info.fans_num.describe()\n"
   ]
  },
  {
   "cell_type": "code",
   "execution_count": 25,
   "metadata": {
    "collapsed": false,
    "scrolled": false
   },
   "outputs": [
    {
     "data": {
      "text/plain": [
       "[<matplotlib.lines.Line2D at 0x20e3c8659e8>]"
      ]
     },
     "execution_count": 25,
     "metadata": {},
     "output_type": "execute_result"
    },
    {
     "data": {
      "image/png": "[encoded data removed]",
      "text/plain": [
       "<matplotlib.figure.Figure at 0x20e39bd80b8>"
      ]
     },
     "metadata": {},
     "output_type": "display_data"
    }
   ],
   "source": [
    "%matplotlib inline\n",
    "import matplotlib.pyplot as plt\n",
    "\n",
    "#图\n",
    "plt.plot(pd_user_info.fans_num)"
   ]
  },
  {
   "cell_type": "code",
   "execution_count": 18,
   "metadata": {
    "collapsed": false
   },
   "outputs": [
    {
     "data": {
      "text/html": [
       "<div>\n",
       "<table border=\"1\" class=\"dataframe\">\n",
       "  <thead>\n",
       "    <tr style=\"text-align: right;\">\n",
       "      <th></th>\n",
       "      <th>user_id</th>\n",
       "      <th>city</th>\n",
       "      <th>sex</th>\n",
       "      <th>fans_num</th>\n",
       "      <th>follow_num</th>\n",
       "      <th>weibo_num</th>\n",
       "      <th>birth</th>\n",
       "      <th>sign</th>\n",
       "    </tr>\n",
       "  </thead>\n",
       "  <tbody>\n",
       "    <tr>\n",
       "      <th>6810</th>\n",
       "      <td>6799c378be425945bc9e1a57a85f4d84</td>\n",
       "      <td>北京</td>\n",
       "      <td>女</td>\n",
       "      <td>87422721.0</td>\n",
       "      <td>666.0</td>\n",
       "      <td>8951.0</td>\n",
       "      <td>NaN</td>\n",
       "      <td>太阳女神（也可称为喜神）的光芒照四方呀嘛照四方：）工作邮箱：w761324@qq.com（仅...</td>\n",
       "    </tr>\n",
       "    <tr>\n",
       "      <th>42</th>\n",
       "      <td>73b2643c31a7e33e57776ac6725fa3e0</td>\n",
       "      <td>其他</td>\n",
       "      <td>男</td>\n",
       "      <td>12430599.0</td>\n",
       "      <td>362.0</td>\n",
       "      <td>60172.0</td>\n",
       "      <td>NaN</td>\n",
       "      <td>新浪微博内容最多的猛料集聚地，最新最热门的分享平台……24小时为您放送热门微博，实在是您居家...</td>\n",
       "    </tr>\n",
       "  </tbody>\n",
       "</table>\n",
       "</div>"
      ],
      "text/plain": [
       "                               user_id city sex    fans_num  follow_num  \\\n",
       "6810  6799c378be425945bc9e1a57a85f4d84   北京   女  87422721.0       666.0   \n",
       "42    73b2643c31a7e33e57776ac6725fa3e0   其他   男  12430599.0       362.0   \n",
       "\n",
       "      weibo_num birth                                               sign  \n",
       "6810     8951.0   NaN  太阳女神（也可称为喜神）的光芒照四方呀嘛照四方：）工作邮箱：w761324@qq.com（仅...  \n",
       "42      60172.0   NaN  新浪微博内容最多的猛料集聚地，最新最热门的分享平台……24小时为您放送热门微博，实在是您居家...  "
      ]
     },
     "execution_count": 18,
     "metadata": {},
     "output_type": "execute_result"
    }
   ],
   "source": [
    "#大V\n",
    "pd_user_info.sort_values('fans_num',ascending=False)[:2]"
   ]
  },
  {
   "cell_type": "code",
   "execution_count": 234,
   "metadata": {
    "collapsed": false
   },
   "outputs": [
    {
     "data": {
      "text/html": [
       "<div>\n",
       "<table border=\"1\" class=\"dataframe\">\n",
       "  <thead>\n",
       "    <tr style=\"text-align: right;\">\n",
       "      <th></th>\n",
       "      <th>user_id</th>\n",
       "      <th>commen_num</th>\n",
       "      <th>like_num</th>\n",
       "      <th>repost_num</th>\n",
       "      <th>time</th>\n",
       "      <th>device</th>\n",
       "      <th>content</th>\n",
       "    </tr>\n",
       "  </thead>\n",
       "  <tbody>\n",
       "    <tr>\n",
       "      <th>0</th>\n",
       "      <td>eec8cdfdb1165b14f1fff87fc53360c3</td>\n",
       "      <td>0</td>\n",
       "      <td>0</td>\n",
       "      <td>0</td>\n",
       "      <td>2016-07-28 08:54:00</td>\n",
       "      <td>OPPO R3</td>\n",
       "      <td>『推荐有奖』</td>\n",
       "    </tr>\n",
       "    <tr>\n",
       "      <th>1</th>\n",
       "      <td>eec8cdfdb1165b14f1fff87fc53360c3</td>\n",
       "      <td>0</td>\n",
       "      <td>0</td>\n",
       "      <td>0</td>\n",
       "      <td>2016-07-28 07:15:00</td>\n",
       "      <td>微博等级</td>\n",
       "      <td>只要升等级就有福利享，变身土豪就靠它，想想就有点小激动呢[太开心]小伙伴儿们速来围观，领取你的</td>\n",
       "    </tr>\n",
       "  </tbody>\n",
       "</table>\n",
       "</div>"
      ],
      "text/plain": [
       "                            user_id  commen_num  like_num  repost_num  \\\n",
       "0  eec8cdfdb1165b14f1fff87fc53360c3           0         0           0   \n",
       "1  eec8cdfdb1165b14f1fff87fc53360c3           0         0           0   \n",
       "\n",
       "                  time   device  \\\n",
       "0  2016-07-28 08:54:00  OPPO R3   \n",
       "1  2016-07-28 07:15:00     微博等级   \n",
       "\n",
       "                                           content  \n",
       "0                                           『推荐有奖』  \n",
       "1  只要升等级就有福利享，变身土豪就靠它，想想就有点小激动呢[太开心]小伙伴儿们速来围观，领取你的  "
      ]
     },
     "execution_count": 234,
     "metadata": {},
     "output_type": "execute_result"
    }
   ],
   "source": [
    "#微博数据\n",
    "pd_weibos.head(2)"
   ]
  },
  {
   "cell_type": "code",
   "execution_count": 166,
   "metadata": {
    "collapsed": false
   },
   "outputs": [
    {
     "data": {
      "text/plain": [
       "user_id       1157303\n",
       "commen_num    1157303\n",
       "like_num      1157303\n",
       "repost_num    1157303\n",
       "time          1157303\n",
       "device         993431\n",
       "content       1133409\n",
       "dtype: int64"
      ]
     },
     "execution_count": 166,
     "metadata": {},
     "output_type": "execute_result"
    }
   ],
   "source": [
    "#内容为空记录剔除\n",
    "pd_weibos.count()"
   ]
  },
  {
   "cell_type": "code",
   "execution_count": 236,
   "metadata": {
    "collapsed": false,
    "scrolled": true
   },
   "outputs": [
    {
     "data": {
      "text/html": [
       "<div>\n",
       "<table border=\"1\" class=\"dataframe\">\n",
       "  <thead>\n",
       "    <tr style=\"text-align: right;\">\n",
       "      <th></th>\n",
       "      <th>user_id</th>\n",
       "      <th>commen_num</th>\n",
       "      <th>like_num</th>\n",
       "      <th>repost_num</th>\n",
       "      <th>time</th>\n",
       "      <th>content</th>\n",
       "    </tr>\n",
       "    <tr>\n",
       "      <th>device</th>\n",
       "      <th></th>\n",
       "      <th></th>\n",
       "      <th></th>\n",
       "      <th></th>\n",
       "      <th></th>\n",
       "      <th></th>\n",
       "    </tr>\n",
       "  </thead>\n",
       "  <tbody>\n",
       "    <tr>\n",
       "      <th>微博 weibo.com</th>\n",
       "      <td>127834</td>\n",
       "      <td>127834</td>\n",
       "      <td>127834</td>\n",
       "      <td>127834</td>\n",
       "      <td>127834</td>\n",
       "      <td>125791</td>\n",
       "    </tr>\n",
       "    <tr>\n",
       "      <th>iPhone 6</th>\n",
       "      <td>89677</td>\n",
       "      <td>89677</td>\n",
       "      <td>89677</td>\n",
       "      <td>89677</td>\n",
       "      <td>89677</td>\n",
       "      <td>88263</td>\n",
       "    </tr>\n",
       "    <tr>\n",
       "      <th>iPhone 6s</th>\n",
       "      <td>50736</td>\n",
       "      <td>50736</td>\n",
       "      <td>50736</td>\n",
       "      <td>50736</td>\n",
       "      <td>50736</td>\n",
       "      <td>49872</td>\n",
       "    </tr>\n",
       "    <tr>\n",
       "      <th>iPhone 6 Plus</th>\n",
       "      <td>46116</td>\n",
       "      <td>46116</td>\n",
       "      <td>46116</td>\n",
       "      <td>46116</td>\n",
       "      <td>46116</td>\n",
       "      <td>45353</td>\n",
       "    </tr>\n",
       "    <tr>\n",
       "      <th>iPhone 5s</th>\n",
       "      <td>39124</td>\n",
       "      <td>39124</td>\n",
       "      <td>39124</td>\n",
       "      <td>39124</td>\n",
       "      <td>39124</td>\n",
       "      <td>38316</td>\n",
       "    </tr>\n",
       "  </tbody>\n",
       "</table>\n",
       "</div>"
      ],
      "text/plain": [
       "               user_id  commen_num  like_num  repost_num    time  content\n",
       "device                                                                   \n",
       "微博 weibo.com    127834      127834    127834      127834  127834   125791\n",
       "iPhone 6         89677       89677     89677       89677   89677    88263\n",
       "iPhone 6s        50736       50736     50736       50736   50736    49872\n",
       "iPhone 6 Plus    46116       46116     46116       46116   46116    45353\n",
       "iPhone 5s        39124       39124     39124       39124   39124    38316"
      ]
     },
     "execution_count": 236,
     "metadata": {},
     "output_type": "execute_result"
    }
   ],
   "source": [
    "import numpy as np\n",
    "#设备分析\n",
    "pd_weibos.groupby('device').count().sort_values(by='user_id',ascending=False)[:5]"
   ]
  },
  {
   "cell_type": "code",
   "execution_count": 225,
   "metadata": {
    "collapsed": true
   },
   "outputs": [],
   "source": [
    "\n",
    "#按性别进行分析\n",
    "#pd_weibos.set_index('user_id')\n",
    "#pd_user_info.set_index('user_id')\n",
    "\n",
    "pd_join = pd.merge(pd_weibos,pd_user_info[['user_id','sex']], how = 'inner')\n",
    "pd_join.groupby('sex').device.count()\n",
    "'''\n",
    "sex\n",
    "女    636586\n",
    "男    356518\n",
    "'''\n",
    "\n",
    "rate = 636586/356518\n",
    "pivot_table = pd_join.pivot_table(index='device',columns='sex',aggfunc ='count',values='user_id',fill_value=1)\n",
    "\n",
    "pivot_table['count_all'] = pivot_table.男 + pivot_table.女\n",
    "pivot_table['comp_val']  = np.maximum(pivot_table.男/pivot_table.女*rate, 1/(pivot_table.男/pivot_table.女*rate))\n",
    "pivot_table['comp_flag']  = np.greater(pivot_table.男/pivot_table.女*rate, 0.5)\n",
    "#男性偏好终端\n",
    "high_comp_dev_male = pivot_table[(pivot_table.comp_val>3) & pivot_table.comp_flag].sort_values(by='comp_val',ascending=False)\n",
    "high_comp_dev_female = pivot_table[(pivot_table.comp_val>3) & ~pivot_table.comp_flag].sort_values(by='comp_val',ascending=False)"
   ]
  },
  {
   "cell_type": "code",
   "execution_count": 229,
   "metadata": {
    "collapsed": false
   },
   "outputs": [
    {
     "data": {
      "text/html": [
       "<div>\n",
       "<table border=\"1\" class=\"dataframe\">\n",
       "  <thead>\n",
       "    <tr style=\"text-align: right;\">\n",
       "      <th>sex</th>\n",
       "      <th>女</th>\n",
       "      <th>男</th>\n",
       "      <th>count_all</th>\n",
       "      <th>comp_val</th>\n",
       "      <th>comp_flag</th>\n",
       "    </tr>\n",
       "    <tr>\n",
       "      <th>device</th>\n",
       "      <th></th>\n",
       "      <th></th>\n",
       "      <th></th>\n",
       "      <th></th>\n",
       "      <th></th>\n",
       "    </tr>\n",
       "  </thead>\n",
       "  <tbody>\n",
       "    <tr>\n",
       "      <th>OPPO R7s</th>\n",
       "      <td>2095</td>\n",
       "      <td>160</td>\n",
       "      <td>2255</td>\n",
       "      <td>7.333114</td>\n",
       "      <td>False</td>\n",
       "    </tr>\n",
       "    <tr>\n",
       "      <th>明星势力榜</th>\n",
       "      <td>2429</td>\n",
       "      <td>309</td>\n",
       "      <td>2738</td>\n",
       "      <td>4.402440</td>\n",
       "      <td>False</td>\n",
       "    </tr>\n",
       "    <tr>\n",
       "      <th>vivo X5Pro</th>\n",
       "      <td>1619</td>\n",
       "      <td>214</td>\n",
       "      <td>1833</td>\n",
       "      <td>4.236990</td>\n",
       "      <td>False</td>\n",
       "    </tr>\n",
       "    <tr>\n",
       "      <th>万人迷OPPO R7</th>\n",
       "      <td>4208</td>\n",
       "      <td>579</td>\n",
       "      <td>4787</td>\n",
       "      <td>4.070254</td>\n",
       "      <td>False</td>\n",
       "    </tr>\n",
       "    <tr>\n",
       "      <th>够快才畅快vivo X6</th>\n",
       "      <td>1974</td>\n",
       "      <td>280</td>\n",
       "      <td>2254</td>\n",
       "      <td>3.948330</td>\n",
       "      <td>False</td>\n",
       "    </tr>\n",
       "    <tr>\n",
       "      <th>OPPO智能手机</th>\n",
       "      <td>8142</td>\n",
       "      <td>1211</td>\n",
       "      <td>9353</td>\n",
       "      <td>3.765402</td>\n",
       "      <td>False</td>\n",
       "    </tr>\n",
       "    <tr>\n",
       "      <th>魅族 MX4</th>\n",
       "      <td>2223</td>\n",
       "      <td>343</td>\n",
       "      <td>2566</td>\n",
       "      <td>3.629692</td>\n",
       "      <td>False</td>\n",
       "    </tr>\n",
       "    <tr>\n",
       "      <th>vivo智能手机</th>\n",
       "      <td>9524</td>\n",
       "      <td>1525</td>\n",
       "      <td>11049</td>\n",
       "      <td>3.497630</td>\n",
       "      <td>False</td>\n",
       "    </tr>\n",
       "    <tr>\n",
       "      <th>三星GALAXY Note 4</th>\n",
       "      <td>1388</td>\n",
       "      <td>226</td>\n",
       "      <td>1614</td>\n",
       "      <td>3.439580</td>\n",
       "      <td>False</td>\n",
       "    </tr>\n",
       "    <tr>\n",
       "      <th>美拍</th>\n",
       "      <td>4159</td>\n",
       "      <td>728</td>\n",
       "      <td>4887</td>\n",
       "      <td>3.199499</td>\n",
       "      <td>False</td>\n",
       "    </tr>\n",
       "    <tr>\n",
       "      <th>vivo智能手机客户端</th>\n",
       "      <td>1746</td>\n",
       "      <td>320</td>\n",
       "      <td>2066</td>\n",
       "      <td>3.055756</td>\n",
       "      <td>False</td>\n",
       "    </tr>\n",
       "  </tbody>\n",
       "</table>\n",
       "</div>"
      ],
      "text/plain": [
       "sex                 女     男  count_all  comp_val comp_flag\n",
       "device                                                    \n",
       "OPPO R7s         2095   160       2255  7.333114     False\n",
       "明星势力榜            2429   309       2738  4.402440     False\n",
       "vivo X5Pro       1619   214       1833  4.236990     False\n",
       "万人迷OPPO R7       4208   579       4787  4.070254     False\n",
       "够快才畅快vivo X6     1974   280       2254  3.948330     False\n",
       "OPPO智能手机         8142  1211       9353  3.765402     False\n",
       "魅族 MX4           2223   343       2566  3.629692     False\n",
       "vivo智能手机         9524  1525      11049  3.497630     False\n",
       "三星GALAXY Note 4  1388   226       1614  3.439580     False\n",
       "美拍               4159   728       4887  3.199499     False\n",
       "vivo智能手机客户端      1746   320       2066  3.055756     False"
      ]
     },
     "execution_count": 229,
     "metadata": {},
     "output_type": "execute_result"
    }
   ],
   "source": [
    "high_comp_dev_female[high_comp_dev_female.count_all>1500]\n",
    "#high_comp_dev_male[high_comp_dev_male.count_all>1000]"
   ]
  },
  {
   "cell_type": "markdown",
   "metadata": {},
   "source": [
    "### 结巴分词 https://github.com/fxsjy/jieba\n",
    "\n",
    "#### jieba\n",
    "\n",
    "“结巴”中文分词：做最好的 Python 中文分词组件\n",
    "\n",
    "\"Jieba\" (Chinese for \"to stutter\") Chinese text segmentation: built to be the best Python Chinese word segmentation module.\n",
    "\n",
    "Scroll down for English documentation.\n",
    "#### 特点\n",
    "\n",
    "* 支持三种分词模式：\n",
    "\n",
    "    - 精确模式，试图将句子最精确地切开，适合文本分析；\n",
    "    - 全模式，把句子中所有的可以成词的词语都扫描出来, 速度非常快，但是不能解决歧义；\n",
    "    - 搜索引擎模式，在精确模式的基础上，对长词再次切分，提高召回率，适合用于搜索引擎分词。\n",
    "    - 支持繁体分词\n",
    "\n",
    "* 支持自定义词典\n",
    "\n",
    "* MIT 授权协议"
   ]
  },
  {
   "cell_type": "code",
   "execution_count": 28,
   "metadata": {
    "collapsed": false
   },
   "outputs": [
    {
     "name": "stdout",
     "output_type": "stream",
     "text": [
      "全模式:  ['我', '来到', '北京', '清华', '清华大学', '华大', '大学']\n",
      "精确模式:  ['我', '来到', '北京', '清华大学']\n"
     ]
    }
   ],
   "source": [
    "import jieba\n",
    "\n",
    "words = jieba.cut(\"我来到北京清华大学\", cut_all=True)\n",
    "print(\"全模式: \" , [x for x in words])  # 全模式\n",
    "\n",
    "words = jieba.cut(\"我来到北京清华大学\")\n",
    "print(\"精确模式: \" ,[x for x in words])  # 精确模式"
   ]
  },
  {
   "cell_type": "markdown",
   "metadata": {},
   "source": [
    "## 3. 特征提取\n",
    "* 分词， jieba分词， 停用词\n",
    "* 词频统计（高频词对比，终端作为单词一并处理）\n",
    "* 归一化\n",
    "* TF-IDF模型\n",
    "* 增加权重\n",
    "\n"
   ]
  },
  {
   "cell_type": "markdown",
   "metadata": {},
   "source": [
    "## 4. 降维\n",
    "\n",
    "PCA（Principal Component Analysis）不仅仅是对高维数据进行降维，更重要的是经过降维去除了噪声，发现了数据中的模式。\n",
    "\n",
    "PCA把原先的n个特征用数目更少的m个特征取代，新特征是旧特征的线性组合，这些线性组合最大化样本方差，尽量使新的m个特征互不相关。从旧特征到新特征的映射捕获数据中的固有变异性。\n",
    "\n",
    "chi2 卡方检验"
   ]
  },
  {
   "cell_type": "markdown",
   "metadata": {},
   "source": [
    "## 5. 模型选择\n",
    "常用的分类算法： \n",
    "* 决策树\n",
    "* 朴素贝叶斯\n",
    "* Logistic 回归\n",
    "* 人工神经网络\n",
    "* k-近邻\n",
    "* 支持向量机\n",
    "\n",
    "\n",
    "1. 决策树 \n",
    "决策树是用于分类和预测的主要技术之一，决策树学习是以实例为基础的归纳学习算法，它着眼于从一组无次序、无规则的实例中推理出以决策树表示的分类规则。构造决策树的目的是找出属性和类别间的关系，用它来预测将来未知类别的记录的类别。它采用自顶向下的递归方式，在决策树的内部节点进行属性的比较，并根据不同属性值判断从该节点向下的分支，在决策树的叶节点得到结论。 \n",
    "主要的决策树算法有ID3、C4.5（C5.0）、CART、PUBLIC、SLIQ和SPRINT算法等。它们在选择测试属性采用的技术、生成的决策树的结构、剪枝的方法以及时刻，能否处理大数据集等方面都有各自的不同之处。 \n",
    "2. 贝叶斯 \n",
    "贝叶斯（Bayes）分类算法是一类利用概率统计知识进行分类的算法，如朴素贝叶斯（Naive Bayes）算法。这些算法主要利用Bayes定理来预测一个未知类别的样本属于各个类别的可能性，选择其中可能性最大的一个类别作为该样本的最终类别。由于贝叶斯定理的成立本身需要一个很强的条件独立性假设前提，而此假设在实际情况中经常是不成立的，因而其分类准确性就会下降。为此就出现了许多降低独立性假设的贝叶斯分类算法，如TAN（Tree Augmented Na?ve Bayes)算法，它是在贝叶斯网络结构的基础上增加属性对之间的关联来实现的。 \n",
    "3. 人工神经网络 \n",
    "人工神经网络（Artificial Neural Networks，ANN）是一种应用类似于大脑神经突触联接的结构进行信息处理的数学模型。在这种模型中，大量的节点（或称”神经元”，或”单元”）之间相互联接构成网络，即”神经网络”，以达到处理信息的目的。神经网络通常需要进行训练，训练的过程就是网络进行学习的过程。训练改变了网络节点的连接权的值使其具有分类的功能，经过训练的网络就可用于对象的识别。 \n",
    "目前，神经网络已有上百种不同的模型，常见的有BP网络、径向基RBF网络、Hopfield网络、随机神经网络（Boltzmann机）、竞争神经网络（Hamming网络，自组织映射网络）等。但是当前的神经网络仍普遍存在收敛速度慢、计算量大、训练时间长和不可解释等缺点。 \n",
    "4. k-近邻 \n",
    "k-近邻(kNN，k-Nearest Neighbors)算法是一种基于实例的分类方法。该方法就是找出与未知样本x距离最近的k个训练样本，看这k个样本中多数属于哪一类，就把x归为那一类。k-近邻方法是一种懒惰学习方法，它存放样本，直到需要分类时才进行分类，如果样本集比较复杂，可能会导致很大的计算开销，因此无法应用到实时性很强的场合。 \n",
    "5. 支持向量机 \n",
    "支持向量机（SVM，Support Vector Machine）是Vapnik根据统计学习理论提出的一种新的学习方法[43] ，它的最大特点是根据结构风险最小化准则，以最大化分类间隔构造最优分类超平面来提高学习机的泛化能力，较好地解决了非线性、高维数、局部极小点等问题。对于分类问题，支持向量机算法根据区域中的样本计算该区域的决策曲面，由此确定该区域中未知样本的类别。 \n",
    "6. 基于关联规则的分类 \n",
    "关联规则挖掘是数据挖掘中一个重要的研究领域。近年来，对于如何将关联规则挖掘用于分类问题，学者们进行了广泛的研究。关联分类方法挖掘形如condset→C的规则，其中condset是项(或属性-值对)的集合，而C是类标号，这种形式的规则称为类关联规则（class association rules，CARS）。关联分类方法一般由两步组成：第一步用关联规则挖掘算法从训练数据集中挖掘出所有满足指定支持度和置信度的类关联规则；第二步使用启发式方法从挖掘出的类关联规则中挑选出一组高质量的规则用于分类。属于关联分类的算法主要包括CBA[44] ，ADT[45] ，CMAR[46] 等。 \n",
    "\n"
   ]
  },
  {
   "cell_type": "markdown",
   "metadata": {},
   "source": [
    "## 6. 模型效果评估\n",
    "混淆矩阵，准确率，F1\n",
    "\n",
    "1. 保持方法：将被标记的原始数据划分成两个不相交的集合，分别称为训练集和检验集，在训练集上归纳分类模型，在检验集上评估模型的性\n",
    "\n",
    "能。 \n",
    "2. 随机二次抽样：可以多次重复保持方法来改进对分类器性能的估计。 \n",
    "3. 交叉验证：每个记录用于训练的次数相同，并且用于检验恰好一次。"
   ]
  }
 ],
 "metadata": {
  "kernelspec": {
   "display_name": "Python 3",
   "language": "python",
   "name": "python3"
  },
  "language_info": {
   "codemirror_mode": {
    "name": "ipython",
    "version": 3
   },
   "file_extension": ".py",
   "mimetype": "text/x-python",
   "name": "python",
   "nbconvert_exporter": "python",
   "pygments_lexer": "ipython3",
   "version": "3.6.0"
  }
 },
 "nbformat": 4,
 "nbformat_minor": 2
}
