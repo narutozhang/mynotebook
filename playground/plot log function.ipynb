{
 "cells": [
  {
   "cell_type": "code",
   "execution_count": 24,
   "metadata": {
    "collapsed": true
   },
   "outputs": [],
   "source": [
    "import numpy as np\n",
    "from matplotlib import pyplot as plt\n",
    "import pandas as pd\n",
    "%matplotlib inline"
   ]
  },
  {
   "cell_type": "code",
   "execution_count": 68,
   "metadata": {
    "collapsed": false
   },
   "outputs": [],
   "source": [
    "X= np.arange(0.1,10.0,0.1)\n",
    "y = np.log2(X)\n",
    "y2 = np.log(X)"
   ]
  },
  {
   "cell_type": "code",
   "execution_count": 71,
   "metadata": {
    "collapsed": false
   },
   "outputs": [
    {
     "data": {
      "text/plain": [
       "<matplotlib.text.Text at 0x1d29b88b0b8>"
      ]
     },
     "execution_count": 71,
     "metadata": {},
     "output_type": "execute_result"
    },
    {
     "data": {
      "image/png": "[encoded data removed]",
      "text/plain": [
       "<matplotlib.figure.Figure at 0x1d2994704a8>"
      ]
     },
     "metadata": {},
     "output_type": "display_data"
    }
   ],
   "source": [
    "plt.plot(X, y)\n",
    "plt.scatter(1, np.log2(1))\n",
    "\n",
    "plt.plot(X, y2)\n",
    "plt.scatter(np.e, np.log(np.e))\n",
    "plt.scatter(np.e, np.log2(np.e))\n",
    "\n",
    "\n",
    "plt.xlabel('x')\n",
    "plt.ylabel('y')\n",
    "plt.title('log2(x)/loge(x)')"
   ]
  },
  {
   "cell_type": "code",
   "execution_count": 63,
   "metadata": {
    "collapsed": false
   },
   "outputs": [],
   "source": [
    "#计算熵 信息期望\n",
    "size = 100\n",
    "#第一组\n",
    "y1 = np.random.randint(2,size=size)\n",
    "y2 = np.random.randint(4,size=size)\n",
    "y3 = np.random.randint(6,size=size)\n",
    "\n"
   ]
  },
  {
   "cell_type": "code",
   "execution_count": 66,
   "metadata": {
    "collapsed": false
   },
   "outputs": [
    {
     "data": {
      "text/plain": [
       "[0.9988455359952018, 1.9914331684777264, 2.490559152707429]"
      ]
     },
     "execution_count": 66,
     "metadata": {},
     "output_type": "execute_result"
    }
   ],
   "source": [
    "py1 = pd.DataFrame({'label':y1}).groupby('label').size() / size\n",
    "py2 =  pd.DataFrame({'label':y2}).groupby('label').size() / size\n",
    "py3 =  pd.DataFrame({'label':y3}).groupby('label').size() / size\n",
    "\n",
    "[ -np.sum(x*np.log2(x)) for x in [py1, py2, py3] ]"
   ]
  },
  {
   "cell_type": "code",
   "execution_count": 73,
   "metadata": {
    "collapsed": false
   },
   "outputs": [
    {
     "data": {
      "text/plain": [
       "[0.46899559358928122, 1.0, 0.95369395848429184]"
      ]
     },
     "execution_count": 73,
     "metadata": {},
     "output_type": "execute_result"
    }
   ],
   "source": [
    "a = [0.1, 0.9]\n",
    "b = [0.5, 0.5]\n",
    "c = [0.6260, 0.3740]\n",
    "\n",
    "[-np.sum(x* np.log2(x)) for x in [a, b, c] ]"
   ]
  }
 ],
 "metadata": {
  "kernelspec": {
   "display_name": "Python 3",
   "language": "python",
   "name": "python3"
  },
  "language_info": {
   "codemirror_mode": {
    "name": "ipython",
    "version": 3
   },
   "file_extension": ".py",
   "mimetype": "text/x-python",
   "name": "python",
   "nbconvert_exporter": "python",
   "pygments_lexer": "ipython3",
   "version": "3.6.0"
  }
 },
 "nbformat": 4,
 "nbformat_minor": 2
}
