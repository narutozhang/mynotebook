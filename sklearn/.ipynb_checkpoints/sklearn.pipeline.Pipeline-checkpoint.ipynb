{
 "cells": [
  {
   "cell_type": "markdown",
   "metadata": {},
   "source": [
    "### sklearn.pipeline.Pipeline\n",
    "\n",
    "Pipeline of transforms with a final estimator.\n",
    "\n",
    "多个转化器的管道，最后包含一个预测器。\n",
    "\n",
    "Sequentially apply a list of transforms and a final estimator. Intermediate steps of the pipeline must be ‘transforms’, that is, they must implement fit and transform methods. The final estimator only needs to implement fit. The transformers in the pipeline can be cached using memory argument.\n",
    "\n",
    "顺序地应用一个转化器列表和一个最终预测器。管道的中间过程必须是一个“转化器”，即必须实现fit和transform方法。最终的预测器只要实现fit。管道中的转化器可以使用'memory'参数来缓存。\n",
    "\n",
    "The purpose of the pipeline is to assemble several steps that can be cross-validated together while setting different parameters. For this, it enables setting parameters of the various steps using their names and the parameter name separated by a ‘__’, as in the example below. A step’s estimator may be replaced entirely by setting the parameter with its name to another estimator, or a transformer removed by setting to None.\n",
    "\n",
    "管道的目的是组合多个可以通过设置不同参数来同时进行交叉验证的步骤。为此，可以设置不同步骤的参数，使用步骤名和参数名，用'__'分割，具体见案例。 每步的预测器可以通过直接指定名称来替换成其他预测器，或者设成None来移除。"
   ]
  }
 ],
 "metadata": {
  "kernelspec": {
   "display_name": "Python 3",
   "language": "python",
   "name": "python3"
  },
  "language_info": {
   "codemirror_mode": {
    "name": "ipython",
    "version": 3
   },
   "file_extension": ".py",
   "mimetype": "text/x-python",
   "name": "python",
   "nbconvert_exporter": "python",
   "pygments_lexer": "ipython3",
   "version": "3.6.0"
  }
 },
 "nbformat": 4,
 "nbformat_minor": 2
}
