{
 "cells": [
  {
   "cell_type": "code",
   "execution_count": 24,
   "metadata": {
    "collapsed": true
   },
   "outputs": [],
   "source": [
    "from sklearn.feature_extraction.text import CountVectorizer\n",
    "from sklearn.naive_bayes import MultinomialNB\n",
    "import numpy as np\n",
    "\n",
    "from IPython.core.interactiveshell import InteractiveShell\n",
    "InteractiveShell.ast_node_interactivity = \"all\""
   ]
  },
  {
   "cell_type": "code",
   "execution_count": 25,
   "metadata": {
    "collapsed": true
   },
   "outputs": [],
   "source": [
    "#训练数据\n",
    "X=['Chinese Beijing Chinese', 'Chinese Chinese Shanghai', 'Chinese Macao',  'Tokyo Japan Chinese']\n",
    "y = ['yes','yes','yes','no']"
   ]
  },
  {
   "cell_type": "code",
   "execution_count": 26,
   "metadata": {
    "collapsed": false
   },
   "outputs": [],
   "source": [
    "#以词频为特征向量化\n",
    "cv = CountVectorizer().fit(X)\n",
    "X =cv.transform(X)"
   ]
  },
  {
   "cell_type": "code",
   "execution_count": 32,
   "metadata": {
    "collapsed": false
   },
   "outputs": [
    {
     "name": "stdout",
     "output_type": "stream",
     "text": [
      "词典： [('beijing', 0), ('chinese', 1), ('japan', 2), ('macao', 3), ('shanghai', 4), ('tokyo', 5)]\n"
     ]
    },
    {
     "data": {
      "text/plain": [
       "array([[1, 2, 0, 0, 0, 0],\n",
       "       [0, 2, 0, 0, 1, 0],\n",
       "       [0, 1, 0, 1, 0, 0],\n",
       "       [0, 1, 1, 0, 0, 1]], dtype=int64)"
      ]
     },
     "execution_count": 32,
     "metadata": {},
     "output_type": "execute_result"
    }
   ],
   "source": [
    "print ('词典：',sorted(cv.vocabulary_.items(), key=lambda d: d[1]))\n",
    "X.toarray()"
   ]
  },
  {
   "cell_type": "code",
   "execution_count": 28,
   "metadata": {
    "collapsed": false
   },
   "outputs": [
    {
     "data": {
      "text/plain": [
       "MultinomialNB(alpha=1.0, class_prior=None, fit_prior=True)"
      ]
     },
     "execution_count": 28,
     "metadata": {},
     "output_type": "execute_result"
    },
    {
     "data": {
      "text/plain": [
       "array([ 1.,  3.])"
      ]
     },
     "execution_count": 28,
     "metadata": {},
     "output_type": "execute_result"
    },
    {
     "data": {
      "text/plain": [
       "array([[ 0.,  1.,  1.,  0.,  0.,  1.],\n",
       "       [ 1.,  5.,  0.,  1.,  1.,  0.]])"
      ]
     },
     "execution_count": 28,
     "metadata": {},
     "output_type": "execute_result"
    },
    {
     "data": {
      "text/plain": [
       "array([-1.38629436, -0.28768207])"
      ]
     },
     "execution_count": 28,
     "metadata": {},
     "output_type": "execute_result"
    },
    {
     "data": {
      "text/plain": [
       "array([-0.28768207])"
      ]
     },
     "execution_count": 28,
     "metadata": {},
     "output_type": "execute_result"
    }
   ],
   "source": [
    "clf = MultinomialNB()\n",
    "clf.fit(X,y)\n",
    "clf.class_count_ #类计数\n",
    "clf.feature_count_  #特征计数\n",
    "clf.class_log_prior_ #类权重 log\n",
    "clf.intercept_"
   ]
  },
  {
   "cell_type": "code",
   "execution_count": 33,
   "metadata": {
    "collapsed": false
   },
   "outputs": [
    {
     "data": {
      "text/plain": [
       "array([[ 1.,  2.,  2.,  1.,  1.,  2.],\n",
       "       [ 2.,  6.,  1.,  2.,  2.,  1.]])"
      ]
     },
     "execution_count": 33,
     "metadata": {},
     "output_type": "execute_result"
    },
    {
     "data": {
      "text/plain": [
       "array([  9.,  14.])"
      ]
     },
     "execution_count": 33,
     "metadata": {},
     "output_type": "execute_result"
    },
    {
     "data": {
      "text/plain": [
       "array([[ 0.11111111,  0.22222222,  0.22222222,  0.11111111,  0.11111111,\n",
       "         0.22222222],\n",
       "       [ 0.14285714,  0.42857143,  0.07142857,  0.14285714,  0.14285714,\n",
       "         0.07142857]])"
      ]
     },
     "execution_count": 33,
     "metadata": {},
     "output_type": "execute_result"
    },
    {
     "data": {
      "text/plain": [
       "array([[ 0.11111111,  0.22222222,  0.22222222,  0.11111111,  0.11111111,\n",
       "         0.22222222],\n",
       "       [ 0.14285714,  0.42857143,  0.07142857,  0.14285714,  0.14285714,\n",
       "         0.07142857]])"
      ]
     },
     "execution_count": 33,
     "metadata": {},
     "output_type": "execute_result"
    }
   ],
   "source": [
    "\n",
    "alpha = 1 #平滑\n",
    "smoothed_fc = clf.feature_count_ + alpha\n",
    "smoothed_cc = smoothed_fc.sum(axis=1)\n",
    "\n",
    "feature_log_prob_ = (np.log(smoothed_fc) -\n",
    "                                  np.log(smoothed_cc.reshape(-1, 1)))\n",
    "fp = smoothed_fc / smoothed_cc.reshape(2,1) #特征概率\n",
    "\n",
    "smoothed_fc\n",
    "smoothed_cc\n",
    "fp\n",
    "np.e ** feature_log_prob_"
   ]
  },
  {
   "cell_type": "code",
   "execution_count": 34,
   "metadata": {
    "collapsed": false
   },
   "outputs": [
    {
     "data": {
      "text/plain": [
       "array([0, 3, 1, 0, 0, 1], dtype=int64)"
      ]
     },
     "execution_count": 34,
     "metadata": {},
     "output_type": "execute_result"
    },
    {
     "data": {
      "text/plain": [
       "array([[ 0.31024139,  0.68975861]])"
      ]
     },
     "execution_count": 34,
     "metadata": {},
     "output_type": "execute_result"
    }
   ],
   "source": [
    "#预测\n",
    "x_val = cv.transform(['Chinese Chinese Chinese Tokyo Japan']) #训练样本，向量化\n",
    "x_val.toarray()[0]  #\n",
    "clf.predict_proba(x_val) #模型预测概率"
   ]
  },
  {
   "cell_type": "code",
   "execution_count": 58,
   "metadata": {
    "collapsed": false
   },
   "outputs": [
    {
     "data": {
      "text/plain": [
       "array([[ 1.,  2.,  2.,  1.,  1.,  2.],\n",
       "       [ 2.,  6.,  1.,  2.,  2.,  1.]])"
      ]
     },
     "execution_count": 58,
     "metadata": {},
     "output_type": "execute_result"
    }
   ],
   "source": [
    "smoothed_fc"
   ]
  },
  {
   "cell_type": "code",
   "execution_count": 61,
   "metadata": {
    "collapsed": false
   },
   "outputs": [
    {
     "name": "stdout",
     "output_type": "stream",
     "text": [
      "0 0.189236169913\n",
      "1 0.420728125918\n"
     ]
    },
    {
     "data": {
      "text/plain": [
       "0.31024138823653269"
      ]
     },
     "execution_count": 61,
     "metadata": {},
     "output_type": "execute_result"
    },
    {
     "data": {
      "text/plain": [
       "0.68975861176346742"
      ]
     },
     "execution_count": 61,
     "metadata": {},
     "output_type": "execute_result"
    }
   ],
   "source": [
    "#手工计算概率\n",
    "PX = smoothed_fc.sum(axis=0) / smoothed_fc.sum()\n",
    "\n",
    "rst=[0,0]\n",
    "for c in [0,1]:\n",
    "    p = 1\n",
    "    for i,x in enumerate(x_val.toarray()[0]):\n",
    "        p *= (fp[c,i]) ** x \n",
    "    p *=  (np.e ** clf.class_log_prior_[c]) \n",
    "    \n",
    "    rst[c] = p\n",
    "    print (c,p)\n",
    "\n",
    "\n",
    "#按比例归一\n",
    "rst[0] *1/(rst[0]+rst[1])\n",
    "rst[1] *1/(rst[0]+rst[1])"
   ]
  }
 ],
 "metadata": {
  "kernelspec": {
   "display_name": "Python 3",
   "language": "python",
   "name": "python3"
  },
  "language_info": {
   "codemirror_mode": {
    "name": "ipython",
    "version": 3
   },
   "file_extension": ".py",
   "mimetype": "text/x-python",
   "name": "python",
   "nbconvert_exporter": "python",
   "pygments_lexer": "ipython3",
   "version": "3.6.0"
  }
 },
 "nbformat": 4,
 "nbformat_minor": 2
}
