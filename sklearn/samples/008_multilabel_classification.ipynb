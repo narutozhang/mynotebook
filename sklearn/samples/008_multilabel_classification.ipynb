{
 "cells": [
  {
   "cell_type": "markdown",
   "metadata": {},
   "source": [
    "### Multilabel classification\n",
    "\n",
    "\n",
    "This example simulates a multi-label document classification problem. The dataset is generated randomly based on the following process:\n",
    "\n",
    "pick the number of labels: n ~ Poisson(n_labels)\n",
    "n times, choose a class c: c ~ Multinomial(theta)\n",
    "pick the document length: k ~ Poisson(length)\n",
    "k times, choose a word: w ~ Multinomial(theta_c)\n",
    "\n",
    "\n",
    "本例模拟文档的多标签分类问题。数据集是按以下流程随机生成的：\n",
    "1. 选择标签的数量：  n Poisson(n_labels) 泊松\n",
    "2. n次，选择一个分类C ： c Multinomial(theta) 多项式\n",
    "3. 选择文档长度： k Poisson(length)\n",
    "4. k次，选择一个词：w Multinomial(theta_c)\n",
    "\n",
    "\n",
    "In the above process, rejection sampling is used to make sure that n is more than 2, and that the document length is never zero. Likewise, we reject classes which have already been chosen. The documents that are assigned to both classes are plotted surrounded by two colored circles.\n",
    "\n",
    "**\n",
    "在上面的处理中，拒绝样本用来确保n大于2且文档长度大于0. 同样的，剔除已经被选择的分类。图中，同时分配到两个类的文档被两个有色的圈包围。\n",
    "**\n",
    "\n",
    "The classification is performed by projecting to the first two principal components found by PCA and CCA for visualisation purposes, followed by using the sklearn.multiclass.OneVsRestClassifier metaclassifier using two SVCs with linear kernels to learn a discriminative model for each class. Note that PCA is used to perform an unsupervised dimensionality reduction, while CCA is used to perform a supervised one.\n",
    "\n",
    "**\n",
    "为了方便可视化，通过PCA和CCA映射的前2个主成分来执行分类。 OneVsRestClassifier 元分类器 使用2个 线性内核的SVC为每个分类学习一个单独的模型。注意PCA是用来进行无监督的降维，CCA则是用来执行有监督的降维。\n",
    "**\n",
    "\n",
    "Note: in the plot, “unlabeled samples” does not mean that we don’t know the labels (as in semi-supervised learning) but that the samples simply do not have a label.\n",
    "\n"
   ]
  }
 ],
 "metadata": {
  "kernelspec": {
   "display_name": "Python 3",
   "language": "python",
   "name": "python3"
  },
  "language_info": {
   "codemirror_mode": {
    "name": "ipython",
    "version": 3
   },
   "file_extension": ".py",
   "mimetype": "text/x-python",
   "name": "python",
   "nbconvert_exporter": "python",
   "pygments_lexer": "ipython3",
   "version": "3.6.0"
  }
 },
 "nbformat": 4,
 "nbformat_minor": 2
}
