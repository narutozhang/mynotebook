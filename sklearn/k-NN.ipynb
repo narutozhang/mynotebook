{
 "cells": [
  {
   "cell_type": "markdown",
   "metadata": {
    "slideshow": {
     "slide_type": "slide"
    }
   },
   "source": [
    "#### 加载用到的包和数据集"
   ]
  },
  {
   "cell_type": "code",
   "execution_count": 2,
   "metadata": {
    "collapsed": true,
    "slideshow": {
     "slide_type": "subslide"
    }
   },
   "outputs": [],
   "source": [
    "from sklearn import datasets, neighbors, linear_model\n",
    "from matplotlib import pyplot as plt\n",
    "import pandas as pd\n",
    "import math\n",
    "import numpy as np\n",
    "%matplotlib inline  \n",
    "\n",
    "digits = datasets.load_digits()\n",
    "\n",
    "X_digits = digits.data\n",
    "y_digits = digits.target"
   ]
  },
  {
   "cell_type": "markdown",
   "metadata": {
    "slideshow": {
     "slide_type": "slide"
    }
   },
   "source": [
    "#### 绘出前10个样本"
   ]
  },
  {
   "cell_type": "code",
   "execution_count": 2,
   "metadata": {
    "collapsed": false,
    "slideshow": {
     "slide_type": "subslide"
    }
   },
   "outputs": [
    {
     "data": {
      "image/png": "[encoded data removed]",
      "text/plain": [
       "<matplotlib.figure.Figure at 0x25cb4cd0898>"
      ]
     },
     "metadata": {},
     "output_type": "display_data"
    }
   ],
   "source": [
    "#len(X_digits) 1797\n",
    "for i in range(10):\n",
    "    plt.subplot(2,5,i+1)\n",
    "    plt.imshow(X_digits[i].reshape(8,8), cmap='gray', interpolation='none')\n",
    "    plt.title(\"Class {}\".format(y_digits[i]))"
   ]
  },
  {
   "cell_type": "markdown",
   "metadata": {
    "slideshow": {
     "slide_type": "slide"
    }
   },
   "source": [
    "#### 从图片到特征向量"
   ]
  },
  {
   "cell_type": "code",
   "execution_count": 3,
   "metadata": {
    "collapsed": false,
    "slideshow": {
     "slide_type": "subslide"
    }
   },
   "outputs": [
    {
     "data": {
      "text/plain": [
       "<matplotlib.image.AxesImage at 0x25cb6071b38>"
      ]
     },
     "execution_count": 3,
     "metadata": {},
     "output_type": "execute_result"
    },
    {
     "data": {
      "image/png": "[encoded data removed]",
      "text/plain": [
       "<matplotlib.figure.Figure at 0x25cb109dc50>"
      ]
     },
     "metadata": {},
     "output_type": "display_data"
    }
   ],
   "source": [
    "plt.imshow(X_digits[0].reshape(8,8), cmap='gray', interpolation='none')"
   ]
  },
  {
   "cell_type": "code",
   "execution_count": 4,
   "metadata": {
    "collapsed": false,
    "slideshow": {
     "slide_type": "subslide"
    }
   },
   "outputs": [
    {
     "data": {
      "text/html": [
       "<div>\n",
       "<table border=\"1\" class=\"dataframe\">\n",
       "  <thead>\n",
       "    <tr style=\"text-align: right;\">\n",
       "      <th></th>\n",
       "      <th>0</th>\n",
       "      <th>1</th>\n",
       "      <th>2</th>\n",
       "      <th>3</th>\n",
       "      <th>4</th>\n",
       "      <th>5</th>\n",
       "      <th>6</th>\n",
       "      <th>7</th>\n",
       "    </tr>\n",
       "  </thead>\n",
       "  <tbody>\n",
       "    <tr>\n",
       "      <th>0</th>\n",
       "      <td>0.0</td>\n",
       "      <td>0.0</td>\n",
       "      <td>5.0</td>\n",
       "      <td>13.0</td>\n",
       "      <td>9.0</td>\n",
       "      <td>1.0</td>\n",
       "      <td>0.0</td>\n",
       "      <td>0.0</td>\n",
       "    </tr>\n",
       "    <tr>\n",
       "      <th>1</th>\n",
       "      <td>0.0</td>\n",
       "      <td>0.0</td>\n",
       "      <td>13.0</td>\n",
       "      <td>15.0</td>\n",
       "      <td>10.0</td>\n",
       "      <td>15.0</td>\n",
       "      <td>5.0</td>\n",
       "      <td>0.0</td>\n",
       "    </tr>\n",
       "    <tr>\n",
       "      <th>2</th>\n",
       "      <td>0.0</td>\n",
       "      <td>3.0</td>\n",
       "      <td>15.0</td>\n",
       "      <td>2.0</td>\n",
       "      <td>0.0</td>\n",
       "      <td>11.0</td>\n",
       "      <td>8.0</td>\n",
       "      <td>0.0</td>\n",
       "    </tr>\n",
       "    <tr>\n",
       "      <th>3</th>\n",
       "      <td>0.0</td>\n",
       "      <td>4.0</td>\n",
       "      <td>12.0</td>\n",
       "      <td>0.0</td>\n",
       "      <td>0.0</td>\n",
       "      <td>8.0</td>\n",
       "      <td>8.0</td>\n",
       "      <td>0.0</td>\n",
       "    </tr>\n",
       "    <tr>\n",
       "      <th>4</th>\n",
       "      <td>0.0</td>\n",
       "      <td>5.0</td>\n",
       "      <td>8.0</td>\n",
       "      <td>0.0</td>\n",
       "      <td>0.0</td>\n",
       "      <td>9.0</td>\n",
       "      <td>8.0</td>\n",
       "      <td>0.0</td>\n",
       "    </tr>\n",
       "    <tr>\n",
       "      <th>5</th>\n",
       "      <td>0.0</td>\n",
       "      <td>4.0</td>\n",
       "      <td>11.0</td>\n",
       "      <td>0.0</td>\n",
       "      <td>1.0</td>\n",
       "      <td>12.0</td>\n",
       "      <td>7.0</td>\n",
       "      <td>0.0</td>\n",
       "    </tr>\n",
       "    <tr>\n",
       "      <th>6</th>\n",
       "      <td>0.0</td>\n",
       "      <td>2.0</td>\n",
       "      <td>14.0</td>\n",
       "      <td>5.0</td>\n",
       "      <td>10.0</td>\n",
       "      <td>12.0</td>\n",
       "      <td>0.0</td>\n",
       "      <td>0.0</td>\n",
       "    </tr>\n",
       "    <tr>\n",
       "      <th>7</th>\n",
       "      <td>0.0</td>\n",
       "      <td>0.0</td>\n",
       "      <td>6.0</td>\n",
       "      <td>13.0</td>\n",
       "      <td>10.0</td>\n",
       "      <td>0.0</td>\n",
       "      <td>0.0</td>\n",
       "      <td>0.0</td>\n",
       "    </tr>\n",
       "  </tbody>\n",
       "</table>\n",
       "</div>"
      ],
      "text/plain": [
       "     0    1     2     3     4     5    6    7\n",
       "0  0.0  0.0   5.0  13.0   9.0   1.0  0.0  0.0\n",
       "1  0.0  0.0  13.0  15.0  10.0  15.0  5.0  0.0\n",
       "2  0.0  3.0  15.0   2.0   0.0  11.0  8.0  0.0\n",
       "3  0.0  4.0  12.0   0.0   0.0   8.0  8.0  0.0\n",
       "4  0.0  5.0   8.0   0.0   0.0   9.0  8.0  0.0\n",
       "5  0.0  4.0  11.0   0.0   1.0  12.0  7.0  0.0\n",
       "6  0.0  2.0  14.0   5.0  10.0  12.0  0.0  0.0\n",
       "7  0.0  0.0   6.0  13.0  10.0   0.0  0.0  0.0"
      ]
     },
     "execution_count": 4,
     "metadata": {},
     "output_type": "execute_result"
    }
   ],
   "source": [
    "#8*8 矩阵\n",
    "pd.DataFrame(X_digits[0].reshape(8,8))"
   ]
  },
  {
   "cell_type": "code",
   "execution_count": 5,
   "metadata": {
    "collapsed": false,
    "scrolled": false,
    "slideshow": {
     "slide_type": "subslide"
    }
   },
   "outputs": [
    {
     "name": "stdout",
     "output_type": "stream",
     "text": [
      "[  0.   0.   5.  13.   9.   1.   0.   0.   0.   0.  13.  15.  10.  15.   5.\n",
      "   0.   0.   3.  15.   2.   0.  11.   8.   0.   0.   4.  12.   0.   0.   8.\n",
      "   8.   0.   0.   5.   8.   0.   0.   9.   8.   0.   0.   4.  11.   0.   1.\n",
      "  12.   7.   0.   0.   2.  14.   5.  10.  12.   0.   0.   0.   0.   6.  13.\n",
      "  10.   0.   0.   0.]\n",
      "(64,)\n"
     ]
    }
   ],
   "source": [
    "# 64维特征向量\n",
    "print(X_digits[0])\n",
    "print(X_digits[0].shape)"
   ]
  },
  {
   "cell_type": "markdown",
   "metadata": {
    "slideshow": {
     "slide_type": "slide"
    }
   },
   "source": [
    "#### 计算距离"
   ]
  },
  {
   "cell_type": "code",
   "execution_count": 3,
   "metadata": {
    "collapsed": false,
    "scrolled": false,
    "slideshow": {
     "slide_type": "subslide"
    }
   },
   "outputs": [
    {
     "data": {
      "image/png": "[encoded data removed]",
      "text/plain": [
       "<matplotlib.figure.Figure at 0x1f6193f9940>"
      ]
     },
     "metadata": {},
     "output_type": "display_data"
    },
    {
     "name": "stdout",
     "output_type": "stream",
     "text": [
      "data of pic_a\n",
      "[  0.   0.   5.  13.   9.   1.   0.   0.   0.   0.  13.  15.  10.  15.   5.\n",
      "   0.   0.   3.  15.   2.   0.  11.   8.   0.   0.   4.  12.   0.   0.   8.\n",
      "   8.   0.   0.   5.   8.   0.   0.   9.   8.   0.   0.   4.  11.   0.   1.\n",
      "  12.   7.   0.   0.   2.  14.   5.  10.  12.   0.   0.   0.   0.   6.  13.\n",
      "  10.   0.   0.   0.]\n",
      "data of pic_b\n",
      "[  0.   0.   0.   0.  14.  13.   1.   0.   0.   0.   0.   5.  16.  16.   2.\n",
      "   0.   0.   0.   0.  14.  16.  12.   0.   0.   0.   1.  10.  16.  16.  12.\n",
      "   0.   0.   0.   3.  12.  14.  16.   9.   0.   0.   0.   0.   0.   5.  16.\n",
      "  15.   0.   0.   0.   0.   0.   4.  16.  14.   0.   0.   0.   0.   0.   1.\n",
      "  13.  16.   1.   0.]\n",
      "距离(循环方式)：  0\n",
      "距离(向量方式)：  0\n"
     ]
    }
   ],
   "source": [
    "#绘图\n",
    "for i in range(2):\n",
    "    plt.subplot(1,2,i+1)\n",
    "    plt.imshow(X_digits[i].reshape(8,8), cmap='gray', interpolation='none')\n",
    "plt.show()\n",
    "\n",
    "#打印原始数据\n",
    "pic_a = X_digits[0]\n",
    "pic_b = X_digits[11]\n",
    "\n",
    "print('data of pic_a')\n",
    "print(pic_a)\n",
    "\n",
    "print('data of pic_b')\n",
    "print(pic_b)\n",
    "\n",
    "\n",
    "#计算欧氏距离 pic_a, pic_b, 64维向量\n",
    "\n",
    "# 循环方式\n",
    "dis = 0\n",
    "#########################################\n",
    "#！！自己动手，用循环方式计算64维向量pic_a和pic_b的欧式距离，结果保存到变量 dis\n",
    "\n",
    "\n",
    "\n",
    "#########################################\n",
    "print('距离(循环方式)： ', dis)\n",
    "\n",
    "\n",
    "\n",
    "\n",
    "#numpy 向量方式计算\n",
    "dis2 = 0\n",
    "#########################################\n",
    "#！！自己动手，用向量方式计算64维向量pic_a和pic_b的欧式距离，结果保存到变量 dis2\n",
    "\n",
    "\n",
    "\n",
    "#########################################\n",
    "print('距离(向量方式)： ', dis2)"
   ]
  },
  {
   "cell_type": "markdown",
   "metadata": {
    "slideshow": {
     "slide_type": "slide"
    }
   },
   "source": [
    "#### 简化的k-NN\n",
    "\n",
    "- K = 1\n",
    "- 训练样本：10\n",
    "- 测试样本：10\n"
   ]
  },
  {
   "cell_type": "code",
   "execution_count": 7,
   "metadata": {
    "collapsed": false,
    "slideshow": {
     "slide_type": "subslide"
    }
   },
   "outputs": [],
   "source": [
    "X_train = X_digits[:10]\n",
    "y_train = y_digits[:10]\n",
    "\n",
    "X_test = X_digits[10:20]\n",
    "y_test = y_digits[10:20]"
   ]
  },
  {
   "cell_type": "code",
   "execution_count": 8,
   "metadata": {
    "collapsed": false,
    "slideshow": {
     "slide_type": "subslide"
    }
   },
   "outputs": [
    {
     "data": {
      "text/plain": [
       "array([0, 1, 2, 3, 4, 5, 6, 7, 8, 9])"
      ]
     },
     "execution_count": 8,
     "metadata": {},
     "output_type": "execute_result"
    }
   ],
   "source": [
    "y_train"
   ]
  },
  {
   "cell_type": "code",
   "execution_count": 9,
   "metadata": {
    "collapsed": false,
    "scrolled": true,
    "slideshow": {
     "slide_type": "subslide"
    }
   },
   "outputs": [
    {
     "data": {
      "image/png": "[encoded data removed]",
      "text/plain": [
       "<matplotlib.figure.Figure at 0x25cb4c90470>"
      ]
     },
     "metadata": {},
     "output_type": "display_data"
    }
   ],
   "source": [
    "#绘制训练样本\n",
    "for i, x_train in enumerate(X_train):\n",
    "    plt.subplot(1,10,i+1)\n",
    "    plt.imshow(x_train.reshape(8,8), cmap='gray', interpolation='none')\n",
    "    #plt.title(\"train {}\".format(y_digits[i]))\n",
    "    \n",
    "plt.show()"
   ]
  },
  {
   "cell_type": "code",
   "execution_count": 10,
   "metadata": {
    "collapsed": false,
    "slideshow": {
     "slide_type": "subslide"
    }
   },
   "outputs": [
    {
     "data": {
      "image/png": "[encoded data removed]",
      "text/plain": [
       "<matplotlib.figure.Figure at 0x25cb4b5d978>"
      ]
     },
     "metadata": {},
     "output_type": "display_data"
    }
   ],
   "source": [
    "#绘制测试样本\n",
    "for i, x_test in enumerate(X_test):\n",
    "    plt.subplot(1,10,i+1)\n",
    "    plt.imshow(x_test.reshape(8,8), cmap='gray', interpolation='none')\n",
    "    "
   ]
  },
  {
   "cell_type": "code",
   "execution_count": 11,
   "metadata": {
    "collapsed": false,
    "slideshow": {
     "slide_type": "subslide"
    }
   },
   "outputs": [],
   "source": [
    "dis = np.zeros((10,10))"
   ]
  },
  {
   "cell_type": "code",
   "execution_count": 12,
   "metadata": {
    "collapsed": false,
    "slideshow": {
     "slide_type": "subslide"
    }
   },
   "outputs": [
    {
     "data": {
      "text/html": [
       "<div>\n",
       "<table border=\"1\" class=\"dataframe\">\n",
       "  <thead>\n",
       "    <tr style=\"text-align: right;\">\n",
       "      <th></th>\n",
       "      <th>0</th>\n",
       "      <th>1</th>\n",
       "      <th>2</th>\n",
       "      <th>3</th>\n",
       "      <th>4</th>\n",
       "      <th>5</th>\n",
       "      <th>6</th>\n",
       "      <th>7</th>\n",
       "      <th>8</th>\n",
       "      <th>9</th>\n",
       "    </tr>\n",
       "  </thead>\n",
       "  <tbody>\n",
       "    <tr>\n",
       "      <th>0</th>\n",
       "      <td>23.706539</td>\n",
       "      <td>60.423505</td>\n",
       "      <td>51.088159</td>\n",
       "      <td>46.032597</td>\n",
       "      <td>46.754679</td>\n",
       "      <td>54.918121</td>\n",
       "      <td>59.724367</td>\n",
       "      <td>47.349762</td>\n",
       "      <td>46.000000</td>\n",
       "      <td>50.368641</td>\n",
       "    </tr>\n",
       "    <tr>\n",
       "      <th>1</th>\n",
       "      <td>54.653454</td>\n",
       "      <td>35.128336</td>\n",
       "      <td>45.110974</td>\n",
       "      <td>46.861498</td>\n",
       "      <td>45.243784</td>\n",
       "      <td>46.357308</td>\n",
       "      <td>41.085277</td>\n",
       "      <td>43.301270</td>\n",
       "      <td>44.598206</td>\n",
       "      <td>52.763624</td>\n",
       "    </tr>\n",
       "    <tr>\n",
       "      <th>2</th>\n",
       "      <td>46.797436</td>\n",
       "      <td>42.485292</td>\n",
       "      <td>49.234135</td>\n",
       "      <td>49.467161</td>\n",
       "      <td>50.497525</td>\n",
       "      <td>57.671483</td>\n",
       "      <td>45.000000</td>\n",
       "      <td>43.312816</td>\n",
       "      <td>44.339599</td>\n",
       "      <td>56.240555</td>\n",
       "    </tr>\n",
       "    <tr>\n",
       "      <th>3</th>\n",
       "      <td>52.220686</td>\n",
       "      <td>48.682646</td>\n",
       "      <td>44.732538</td>\n",
       "      <td>29.051678</td>\n",
       "      <td>56.098128</td>\n",
       "      <td>49.122296</td>\n",
       "      <td>45.011110</td>\n",
       "      <td>51.215232</td>\n",
       "      <td>44.418465</td>\n",
       "      <td>31.048349</td>\n",
       "    </tr>\n",
       "    <tr>\n",
       "      <th>4</th>\n",
       "      <td>44.113490</td>\n",
       "      <td>44.463468</td>\n",
       "      <td>59.883220</td>\n",
       "      <td>56.753854</td>\n",
       "      <td>32.741411</td>\n",
       "      <td>62.896741</td>\n",
       "      <td>41.701319</td>\n",
       "      <td>46.989360</td>\n",
       "      <td>49.050994</td>\n",
       "      <td>54.890801</td>\n",
       "    </tr>\n",
       "    <tr>\n",
       "      <th>5</th>\n",
       "      <td>49.719212</td>\n",
       "      <td>47.296934</td>\n",
       "      <td>48.846699</td>\n",
       "      <td>34.885527</td>\n",
       "      <td>53.028294</td>\n",
       "      <td>54.387499</td>\n",
       "      <td>54.451814</td>\n",
       "      <td>49.879856</td>\n",
       "      <td>47.644517</td>\n",
       "      <td>35.256205</td>\n",
       "    </tr>\n",
       "    <tr>\n",
       "      <th>6</th>\n",
       "      <td>39.698866</td>\n",
       "      <td>50.388491</td>\n",
       "      <td>46.000000</td>\n",
       "      <td>54.341513</td>\n",
       "      <td>40.841156</td>\n",
       "      <td>51.029403</td>\n",
       "      <td>33.808283</td>\n",
       "      <td>50.179677</td>\n",
       "      <td>49.315312</td>\n",
       "      <td>51.000000</td>\n",
       "    </tr>\n",
       "    <tr>\n",
       "      <th>7</th>\n",
       "      <td>53.347915</td>\n",
       "      <td>52.507142</td>\n",
       "      <td>55.839054</td>\n",
       "      <td>49.729267</td>\n",
       "      <td>57.654141</td>\n",
       "      <td>49.152823</td>\n",
       "      <td>60.654761</td>\n",
       "      <td>44.452222</td>\n",
       "      <td>44.988888</td>\n",
       "      <td>62.072538</td>\n",
       "    </tr>\n",
       "    <tr>\n",
       "      <th>8</th>\n",
       "      <td>46.978719</td>\n",
       "      <td>49.497475</td>\n",
       "      <td>52.278102</td>\n",
       "      <td>41.255303</td>\n",
       "      <td>47.381431</td>\n",
       "      <td>53.823787</td>\n",
       "      <td>49.598387</td>\n",
       "      <td>47.780749</td>\n",
       "      <td>41.048752</td>\n",
       "      <td>48.497423</td>\n",
       "    </tr>\n",
       "    <tr>\n",
       "      <th>9</th>\n",
       "      <td>46.097722</td>\n",
       "      <td>50.931326</td>\n",
       "      <td>52.105662</td>\n",
       "      <td>45.144213</td>\n",
       "      <td>46.850827</td>\n",
       "      <td>55.955339</td>\n",
       "      <td>58.017239</td>\n",
       "      <td>43.577517</td>\n",
       "      <td>49.122296</td>\n",
       "      <td>44.181444</td>\n",
       "    </tr>\n",
       "  </tbody>\n",
       "</table>\n",
       "</div>"
      ],
      "text/plain": [
       "           0          1          2          3          4          5  \\\n",
       "0  23.706539  60.423505  51.088159  46.032597  46.754679  54.918121   \n",
       "1  54.653454  35.128336  45.110974  46.861498  45.243784  46.357308   \n",
       "2  46.797436  42.485292  49.234135  49.467161  50.497525  57.671483   \n",
       "3  52.220686  48.682646  44.732538  29.051678  56.098128  49.122296   \n",
       "4  44.113490  44.463468  59.883220  56.753854  32.741411  62.896741   \n",
       "5  49.719212  47.296934  48.846699  34.885527  53.028294  54.387499   \n",
       "6  39.698866  50.388491  46.000000  54.341513  40.841156  51.029403   \n",
       "7  53.347915  52.507142  55.839054  49.729267  57.654141  49.152823   \n",
       "8  46.978719  49.497475  52.278102  41.255303  47.381431  53.823787   \n",
       "9  46.097722  50.931326  52.105662  45.144213  46.850827  55.955339   \n",
       "\n",
       "           6          7          8          9  \n",
       "0  59.724367  47.349762  46.000000  50.368641  \n",
       "1  41.085277  43.301270  44.598206  52.763624  \n",
       "2  45.000000  43.312816  44.339599  56.240555  \n",
       "3  45.011110  51.215232  44.418465  31.048349  \n",
       "4  41.701319  46.989360  49.050994  54.890801  \n",
       "5  54.451814  49.879856  47.644517  35.256205  \n",
       "6  33.808283  50.179677  49.315312  51.000000  \n",
       "7  60.654761  44.452222  44.988888  62.072538  \n",
       "8  49.598387  47.780749  41.048752  48.497423  \n",
       "9  58.017239  43.577517  49.122296  44.181444  "
      ]
     },
     "execution_count": 12,
     "metadata": {},
     "output_type": "execute_result"
    }
   ],
   "source": [
    "for i, x_train in enumerate(X_train):\n",
    "    for j, x_test in enumerate(X_test):\n",
    "        dis[i, j] = ((x_train - x_test) ** 2).sum() ** 0.5\n",
    "\n",
    "pd.DataFrame(dis)"
   ]
  },
  {
   "cell_type": "markdown",
   "metadata": {
    "slideshow": {
     "slide_type": "slide"
    }
   },
   "source": [
    "#### k-NN with sickit-learn"
   ]
  },
  {
   "cell_type": "code",
   "execution_count": 13,
   "metadata": {
    "collapsed": false,
    "slideshow": {
     "slide_type": "subslide"
    }
   },
   "outputs": [
    {
     "name": "stdout",
     "output_type": "stream",
     "text": [
      "KNN score: 0.977778\n"
     ]
    }
   ],
   "source": [
    "\n",
    "from sklearn import datasets, neighbors\n",
    "\n",
    "digits = datasets.load_digits()\n",
    "X_digits = digits.data\n",
    "y_digits = digits.target\n",
    "\n",
    "n_samples = len(X_digits)\n",
    "\n",
    "X_train = X_digits[:int(.9 * n_samples)]\n",
    "y_train = y_digits[:int(.9 * n_samples)]\n",
    "X_test = X_digits[int(.9 * n_samples):]\n",
    "y_test = y_digits[int(.9 * n_samples):]\n",
    "\n",
    "knn = neighbors.KNeighborsClassifier(n_neighbors=2)\n",
    "print('KNN score: %f' % knn.fit(X_train, y_train).score(X_test, y_test))"
   ]
  },
  {
   "cell_type": "markdown",
   "metadata": {
    "slideshow": {
     "slide_type": "slide"
    }
   },
   "source": [
    "#### 不同k值的预测效果"
   ]
  },
  {
   "cell_type": "code",
   "execution_count": 14,
   "metadata": {
    "collapsed": false,
    "slideshow": {
     "slide_type": "subslide"
    }
   },
   "outputs": [],
   "source": [
    "scores = np.zeros(99)\n",
    "for n in range(1,100):\n",
    "    knn = neighbors.KNeighborsClassifier(n_neighbors=n)\n",
    "    scores[n-1] = knn.fit(X_train, y_train).score(X_test, y_test)"
   ]
  },
  {
   "cell_type": "code",
   "execution_count": 15,
   "metadata": {
    "collapsed": false,
    "slideshow": {
     "slide_type": "subslide"
    }
   },
   "outputs": [
    {
     "data": {
      "text/plain": [
       "[<matplotlib.lines.Line2D at 0x25cb5db1518>]"
      ]
     },
     "execution_count": 15,
     "metadata": {},
     "output_type": "execute_result"
    },
    {
     "data": {
      "image/png": "[encoded data removed]",
      "text/plain": [
       "<matplotlib.figure.Figure at 0x25cb648f978>"
      ]
     },
     "metadata": {},
     "output_type": "display_data"
    }
   ],
   "source": [
    "plt.plot(scores)"
   ]
  }
 ],
 "metadata": {
  "celltoolbar": "Slideshow",
  "kernelspec": {
   "display_name": "Python 3",
   "language": "python",
   "name": "python3"
  },
  "language_info": {
   "codemirror_mode": {
    "name": "ipython",
    "version": 3
   },
   "file_extension": ".py",
   "mimetype": "text/x-python",
   "name": "python",
   "nbconvert_exporter": "python",
   "pygments_lexer": "ipython3",
   "version": "3.6.0"
  }
 },
 "nbformat": 4,
 "nbformat_minor": 2
}
